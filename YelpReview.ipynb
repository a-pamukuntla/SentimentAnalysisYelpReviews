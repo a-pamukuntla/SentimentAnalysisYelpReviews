{
 "cells": [
  {
   "cell_type": "code",
   "execution_count": 1,
   "id": "equipped-howard",
   "metadata": {},
   "outputs": [],
   "source": [
    "#Akhila Pamukuntla"
   ]
  },
  {
   "cell_type": "markdown",
   "id": "analyzed-homework",
   "metadata": {},
   "source": [
    "## 1.\tImport the necessary libraries "
   ]
  },
  {
   "cell_type": "code",
   "execution_count": 2,
   "id": "quick-bahrain",
   "metadata": {},
   "outputs": [],
   "source": [
    "# Import the necessary modules\n",
    "import pandas as pd\n",
    "from sklearn.model_selection import train_test_split\n",
    "\n",
    "# Import CountVectorizer\n",
    "from sklearn.feature_extraction.text import CountVectorizer\n",
    "\n",
    "# Import TfidfVectorizer\n",
    "from sklearn.feature_extraction.text import TfidfVectorizer\n",
    "\n",
    "\n",
    "df= pd.read_csv('yelp-data-lab5.csv')\n",
    "\n",
    "# Create a series to store the labels: y\n",
    "y = df['rating']\n",
    "\n",
    "# Create training and test sets\n",
    "X_train, X_test, y_train, y_test = train_test_split(df['review'], y, test_size = 0.3, random_state = 1)"
   ]
  },
  {
   "cell_type": "code",
   "execution_count": 3,
   "id": "copyrighted-moisture",
   "metadata": {},
   "outputs": [
    {
     "data": {
      "text/html": [
       "<div>\n",
       "<style scoped>\n",
       "    .dataframe tbody tr th:only-of-type {\n",
       "        vertical-align: middle;\n",
       "    }\n",
       "\n",
       "    .dataframe tbody tr th {\n",
       "        vertical-align: top;\n",
       "    }\n",
       "\n",
       "    .dataframe thead th {\n",
       "        text-align: right;\n",
       "    }\n",
       "</style>\n",
       "<table border=\"1\" class=\"dataframe\">\n",
       "  <thead>\n",
       "    <tr style=\"text-align: right;\">\n",
       "      <th></th>\n",
       "      <th>user_id</th>\n",
       "      <th>prod_id</th>\n",
       "      <th>rating</th>\n",
       "      <th>label</th>\n",
       "      <th>date</th>\n",
       "      <th>review</th>\n",
       "      <th>Year</th>\n",
       "      <th>venue</th>\n",
       "    </tr>\n",
       "  </thead>\n",
       "  <tbody>\n",
       "    <tr>\n",
       "      <th>0</th>\n",
       "      <td>60609</td>\n",
       "      <td>3611</td>\n",
       "      <td>bad</td>\n",
       "      <td>1</td>\n",
       "      <td>7/12/13</td>\n",
       "      <td>horrible. I went there for a nice fresh lobste...</td>\n",
       "      <td>2013</td>\n",
       "      <td>Don Pepe II</td>\n",
       "    </tr>\n",
       "    <tr>\n",
       "      <th>1</th>\n",
       "      <td>121342</td>\n",
       "      <td>3528</td>\n",
       "      <td>bad</td>\n",
       "      <td>1</td>\n",
       "      <td>7/7/12</td>\n",
       "      <td>This might be ok for a beer, but don't dare tr...</td>\n",
       "      <td>2012</td>\n",
       "      <td>Rattle ‘N’ Hum</td>\n",
       "    </tr>\n",
       "    <tr>\n",
       "      <th>2</th>\n",
       "      <td>102327</td>\n",
       "      <td>1378</td>\n",
       "      <td>bad</td>\n",
       "      <td>-1</td>\n",
       "      <td>11/17/12</td>\n",
       "      <td>one of the worst place to eat. We have never a...</td>\n",
       "      <td>2012</td>\n",
       "      <td>Green Chilli</td>\n",
       "    </tr>\n",
       "    <tr>\n",
       "      <th>3</th>\n",
       "      <td>108938</td>\n",
       "      <td>4037</td>\n",
       "      <td>bad</td>\n",
       "      <td>1</td>\n",
       "      <td>1/28/13</td>\n",
       "      <td>alfies has ok food. The manager is super nice ...</td>\n",
       "      <td>2013</td>\n",
       "      <td>Alfie’s</td>\n",
       "    </tr>\n",
       "    <tr>\n",
       "      <th>4</th>\n",
       "      <td>66638</td>\n",
       "      <td>2645</td>\n",
       "      <td>bad</td>\n",
       "      <td>-1</td>\n",
       "      <td>12/3/13</td>\n",
       "      <td>Love love this place! The food is great! The r...</td>\n",
       "      <td>2013</td>\n",
       "      <td>Buon Appetito</td>\n",
       "    </tr>\n",
       "  </tbody>\n",
       "</table>\n",
       "</div>"
      ],
      "text/plain": [
       "   user_id  prod_id rating  label      date  \\\n",
       "0    60609     3611    bad      1   7/12/13   \n",
       "1   121342     3528    bad      1    7/7/12   \n",
       "2   102327     1378    bad     -1  11/17/12   \n",
       "3   108938     4037    bad      1   1/28/13   \n",
       "4    66638     2645    bad     -1   12/3/13   \n",
       "\n",
       "                                              review  Year           venue  \n",
       "0  horrible. I went there for a nice fresh lobste...  2013     Don Pepe II  \n",
       "1  This might be ok for a beer, but don't dare tr...  2012  Rattle ‘N’ Hum  \n",
       "2  one of the worst place to eat. We have never a...  2012    Green Chilli  \n",
       "3  alfies has ok food. The manager is super nice ...  2013         Alfie’s  \n",
       "4  Love love this place! The food is great! The r...  2013   Buon Appetito  "
      ]
     },
     "execution_count": 3,
     "metadata": {},
     "output_type": "execute_result"
    }
   ],
   "source": [
    "df.head()"
   ]
  },
  {
   "cell_type": "markdown",
   "id": "convinced-combat",
   "metadata": {},
   "source": [
    "## 2.\tLook at the distribution of the ratings (good vs. bad)"
   ]
  },
  {
   "cell_type": "code",
   "execution_count": 4,
   "id": "dress-details",
   "metadata": {},
   "outputs": [
    {
     "data": {
      "text/plain": [
       "bad     119\n",
       "good     81\n",
       "Name: rating, dtype: int64"
      ]
     },
     "execution_count": 4,
     "metadata": {},
     "output_type": "execute_result"
    }
   ],
   "source": [
    "y.value_counts()"
   ]
  },
  {
   "cell_type": "code",
   "execution_count": 5,
   "id": "regional-handle",
   "metadata": {},
   "outputs": [
    {
     "data": {
      "text/plain": [
       "<matplotlib.axes._subplots.AxesSubplot at 0x7f9329e7ebe0>"
      ]
     },
     "execution_count": 5,
     "metadata": {},
     "output_type": "execute_result"
    },
    {
     "data": {
      "image/png": "[encoded data removed]",
      "text/plain": [
       "<Figure size 432x288 with 1 Axes>"
      ]
     },
     "metadata": {
      "needs_background": "light"
     },
     "output_type": "display_data"
    }
   ],
   "source": [
    "y.hist()"
   ]
  },
  {
   "cell_type": "markdown",
   "id": "blind-review",
   "metadata": {},
   "source": [
    "## 3. Process the Review text and build a TF-IDF and bigrams (n-grams = 2) set and the original attributes."
   ]
  },
  {
   "cell_type": "markdown",
   "id": "local-affect",
   "metadata": {},
   "source": [
    "#### Count Vectorizer"
   ]
  },
  {
   "cell_type": "code",
   "execution_count": 6,
   "id": "controversial-titanium",
   "metadata": {},
   "outputs": [
    {
     "name": "stdout",
     "output_type": "stream",
     "text": [
      "['00', '10', '100', '10pm', '11', '1138', '12', '13', '14', '15', '150x', '16', '17', '180', '1st', '20', '2012', '2013', '22', '23', '24', '25', '26', '2inch', '2pm', '2yr', '30', '32', '3in', '40']\n",
      "[[0 2 0 ... 0 0 0]\n",
      " [0 0 0 ... 0 0 0]\n",
      " [0 0 0 ... 0 0 0]\n",
      " [0 0 0 ... 0 0 0]\n",
      " [0 0 0 ... 0 0 0]]\n"
     ]
    }
   ],
   "source": [
    "# Initialize a CountVectorizer object: count_vectorizer\n",
    "count_vectorizer = CountVectorizer(stop_words = 'english', lowercase = True)\n",
    "\n",
    "# Transform the training data using only the 'text' column values: count_train \n",
    "count_train = count_vectorizer.fit_transform(X_train.values)\n",
    "\n",
    "# Transform the test data using only the 'text' column values: count_test \n",
    "count_test = count_vectorizer.transform(X_test.values)\n",
    "\n",
    "# Print the first 10 features of the count_vectorizer\n",
    "print(count_vectorizer.get_feature_names()[:30])  \n",
    "print(count_train.A[:5])"
   ]
  },
  {
   "cell_type": "markdown",
   "id": "shared-letters",
   "metadata": {},
   "source": [
    "#### TF-IDF"
   ]
  },
  {
   "cell_type": "code",
   "execution_count": 7,
   "id": "arctic-alarm",
   "metadata": {},
   "outputs": [
    {
     "name": "stdout",
     "output_type": "stream",
     "text": [
      "['00', '10', '100', '10pm', '11', '1138', '12', '13', '14', '15']\n",
      "[[0.         0.28181892 0.         ... 0.         0.         0.        ]\n",
      " [0.         0.         0.         ... 0.         0.         0.        ]\n",
      " [0.         0.         0.         ... 0.         0.         0.        ]\n",
      " [0.         0.         0.         ... 0.         0.         0.        ]\n",
      " [0.         0.         0.         ... 0.         0.         0.        ]]\n"
     ]
    }
   ],
   "source": [
    "# Initialize a TfidfVectorizer object: tfidf_vectorizer\n",
    "tfidf_vectorizer = TfidfVectorizer(stop_words = 'english', max_df = 0.7)#, tokenizer=my_tokenizer)\n",
    "\n",
    "# Transform the training data: tfidf_train \n",
    "tfidf_train = tfidf_vectorizer.fit_transform(X_train.values)\n",
    "\n",
    "# Transform the test data: tfidf_test \n",
    "tfidf_test = tfidf_vectorizer.transform(X_test.values)\n",
    "\n",
    "# Print the first 10 features\n",
    "print(tfidf_vectorizer.get_feature_names()[:10])\n",
    "\n",
    "# Print the first 5 vectors of the tfidf training data\n",
    "print(tfidf_train.A[:5])"
   ]
  },
  {
   "cell_type": "code",
   "execution_count": 8,
   "id": "random-version",
   "metadata": {},
   "outputs": [],
   "source": [
    "# Create the CountVectorizer DataFrame: count_df\n",
    "count_df = pd.DataFrame(count_train.A, columns=count_vectorizer.get_feature_names())\n",
    "\n",
    "# Create the TfidfVectorizer DataFrame: tfidf_df\n",
    "tfidf_df = pd.DataFrame(tfidf_train.A, columns=tfidf_vectorizer.get_feature_names())"
   ]
  },
  {
   "cell_type": "markdown",
   "id": "illegal-zealand",
   "metadata": {},
   "source": [
    "### Model 1: Naive Bayes of Count_Vectorizer"
   ]
  },
  {
   "cell_type": "code",
   "execution_count": 9,
   "id": "mediterranean-robin",
   "metadata": {},
   "outputs": [
    {
     "data": {
      "text/plain": [
       "0.8666666666666667"
      ]
     },
     "execution_count": 9,
     "metadata": {},
     "output_type": "execute_result"
    }
   ],
   "source": [
    "from sklearn.naive_bayes import MultinomialNB\n",
    "from sklearn import metrics\n",
    "\n",
    "nb_classifier = MultinomialNB()\n",
    "nb_classifier.fit(count_train, y_train)\n",
    "pred = nb_classifier.predict(count_test)\n",
    "\n",
    "metrics.accuracy_score(y_test, pred)"
   ]
  },
  {
   "cell_type": "code",
   "execution_count": 10,
   "id": "north-insert",
   "metadata": {},
   "outputs": [
    {
     "data": {
      "text/plain": [
       "array([[28,  0],\n",
       "       [ 8, 24]])"
      ]
     },
     "execution_count": 10,
     "metadata": {},
     "output_type": "execute_result"
    }
   ],
   "source": [
    "metrics.confusion_matrix(y_test, pred, labels = ['bad','good'])"
   ]
  },
  {
   "cell_type": "markdown",
   "id": "digital-hunter",
   "metadata": {},
   "source": [
    "### Model 2: Naive Bayes of TFIDF_Vectorizer"
   ]
  },
  {
   "cell_type": "code",
   "execution_count": 11,
   "id": "chinese-academy",
   "metadata": {},
   "outputs": [],
   "source": [
    "# Create a Multinomial Naive Bayes classifier: nb_classifier\n",
    "nb_classifier = MultinomialNB()\n",
    "nb_classifier.fit(tfidf_train, y_train)\n",
    "\n",
    "# Create the predicted tags: pred\n",
    "pred = nb_classifier.predict(tfidf_test)"
   ]
  },
  {
   "cell_type": "code",
   "execution_count": 12,
   "id": "separated-pride",
   "metadata": {},
   "outputs": [
    {
     "name": "stdout",
     "output_type": "stream",
     "text": [
      "0.6\n",
      "F1 score on train is 0.7000000000000001\n"
     ]
    }
   ],
   "source": [
    "# Calculate the accuracy score: score\n",
    "score = metrics.accuracy_score(y_test, pred)\n",
    "print(score)\n",
    "# Calculate the accuracy score: score\n",
    "from sklearn.metrics import f1_score\n",
    "\n",
    "print('F1 score on train is', f1_score(y_test, pred, pos_label=\"bad\"))"
   ]
  },
  {
   "cell_type": "code",
   "execution_count": 13,
   "id": "electronic-mexico",
   "metadata": {},
   "outputs": [
    {
     "data": {
      "text/plain": [
       "array([[28,  0],\n",
       "       [24,  8]])"
      ]
     },
     "execution_count": 13,
     "metadata": {},
     "output_type": "execute_result"
    }
   ],
   "source": [
    "metrics.confusion_matrix(y_test, pred, labels = ['bad','good'])"
   ]
  },
  {
   "cell_type": "code",
   "execution_count": 14,
   "id": "transsexual-understanding",
   "metadata": {},
   "outputs": [],
   "source": [
    "text = [\"the food is amazing!\"]\n",
    "pd_text = pd.Series(text)\n",
    "count_text = count_vectorizer.transform(pd_text)\n",
    "prediction = nb_classifier.predict(count_text)"
   ]
  },
  {
   "cell_type": "code",
   "execution_count": 15,
   "id": "artistic-ranch",
   "metadata": {},
   "outputs": [
    {
     "name": "stdout",
     "output_type": "stream",
     "text": [
      "the review is considered as:  good\n"
     ]
    }
   ],
   "source": [
    "print('the review is considered as: ',prediction[0])"
   ]
  },
  {
   "cell_type": "code",
   "execution_count": 16,
   "id": "minimal-criticism",
   "metadata": {},
   "outputs": [],
   "source": [
    "text = [\"the food is bad!\"]\n",
    "pd_text = pd.Series(text)\n",
    "count_text = count_vectorizer.transform(pd_text)\n",
    "prediction = nb_classifier.predict(count_text)"
   ]
  },
  {
   "cell_type": "code",
   "execution_count": 17,
   "id": "incorrect-burns",
   "metadata": {},
   "outputs": [
    {
     "name": "stdout",
     "output_type": "stream",
     "text": [
      "the review is considered as:  bad\n"
     ]
    }
   ],
   "source": [
    "print('the review is considered as: ',prediction[0])"
   ]
  },
  {
   "cell_type": "markdown",
   "id": "nutritional-gateway",
   "metadata": {},
   "source": [
    "### Important attributes"
   ]
  },
  {
   "cell_type": "code",
   "execution_count": 18,
   "id": "attempted-politics",
   "metadata": {},
   "outputs": [],
   "source": [
    "def get_salient_words(nb_clf, vect, class_ind):\n",
    "    \"\"\"Return salient words for given class\n",
    "    Parameters\n",
    "    ----------\n",
    "    nb_clf : a Naive Bayes classifier (e.g. MultinomialNB)\n",
    "    vect : CountVectorizer\n",
    "    class_ind : int\n",
    "    Returns\n",
    "    -------\n",
    "    list\n",
    "        a sorted list of (word, log prob) sorted by log probability in descending order.\n",
    "    \"\"\"\n",
    "\n",
    "    words = vect.get_feature_names()\n",
    "    zipped = list(zip(words, nb_clf.feature_log_prob_[class_ind]))\n",
    "    sorted_zip = sorted(zipped, key=lambda t: t[1], reverse=True)\n",
    "\n",
    "    return sorted_zip\n"
   ]
  },
  {
   "cell_type": "markdown",
   "id": "narrative-fantasy",
   "metadata": {},
   "source": [
    "#### In bad reviews"
   ]
  },
  {
   "cell_type": "code",
   "execution_count": 19,
   "id": "royal-sussex",
   "metadata": {
    "scrolled": false
   },
   "outputs": [
    {
     "data": {
      "text/html": [
       "<div>\n",
       "<style scoped>\n",
       "    .dataframe tbody tr th:only-of-type {\n",
       "        vertical-align: middle;\n",
       "    }\n",
       "\n",
       "    .dataframe tbody tr th {\n",
       "        vertical-align: top;\n",
       "    }\n",
       "\n",
       "    .dataframe thead th {\n",
       "        text-align: right;\n",
       "    }\n",
       "</style>\n",
       "<table border=\"1\" class=\"dataframe\">\n",
       "  <thead>\n",
       "    <tr style=\"text-align: right;\">\n",
       "      <th></th>\n",
       "      <th>0</th>\n",
       "      <th>1</th>\n",
       "    </tr>\n",
       "  </thead>\n",
       "  <tbody>\n",
       "    <tr>\n",
       "      <th>0</th>\n",
       "      <td>food</td>\n",
       "      <td>-6.281428</td>\n",
       "    </tr>\n",
       "    <tr>\n",
       "      <th>1</th>\n",
       "      <td>place</td>\n",
       "      <td>-6.465202</td>\n",
       "    </tr>\n",
       "    <tr>\n",
       "      <th>2</th>\n",
       "      <td>time</td>\n",
       "      <td>-6.534750</td>\n",
       "    </tr>\n",
       "    <tr>\n",
       "      <th>3</th>\n",
       "      <td>good</td>\n",
       "      <td>-6.610985</td>\n",
       "    </tr>\n",
       "    <tr>\n",
       "      <th>4</th>\n",
       "      <td>like</td>\n",
       "      <td>-6.650594</td>\n",
       "    </tr>\n",
       "    <tr>\n",
       "      <th>5</th>\n",
       "      <td>ordered</td>\n",
       "      <td>-6.650747</td>\n",
       "    </tr>\n",
       "    <tr>\n",
       "      <th>6</th>\n",
       "      <td>just</td>\n",
       "      <td>-6.666575</td>\n",
       "    </tr>\n",
       "    <tr>\n",
       "      <th>7</th>\n",
       "      <td>service</td>\n",
       "      <td>-6.697648</td>\n",
       "    </tr>\n",
       "    <tr>\n",
       "      <th>8</th>\n",
       "      <td>went</td>\n",
       "      <td>-6.713850</td>\n",
       "    </tr>\n",
       "    <tr>\n",
       "      <th>9</th>\n",
       "      <td>restaurant</td>\n",
       "      <td>-6.755699</td>\n",
       "    </tr>\n",
       "    <tr>\n",
       "      <th>10</th>\n",
       "      <td>order</td>\n",
       "      <td>-6.771097</td>\n",
       "    </tr>\n",
       "    <tr>\n",
       "      <th>11</th>\n",
       "      <td>really</td>\n",
       "      <td>-6.780635</td>\n",
       "    </tr>\n",
       "    <tr>\n",
       "      <th>12</th>\n",
       "      <td>bad</td>\n",
       "      <td>-6.848848</td>\n",
       "    </tr>\n",
       "    <tr>\n",
       "      <th>13</th>\n",
       "      <td>going</td>\n",
       "      <td>-6.862553</td>\n",
       "    </tr>\n",
       "    <tr>\n",
       "      <th>14</th>\n",
       "      <td>came</td>\n",
       "      <td>-6.903482</td>\n",
       "    </tr>\n",
       "    <tr>\n",
       "      <th>15</th>\n",
       "      <td>got</td>\n",
       "      <td>-6.923828</td>\n",
       "    </tr>\n",
       "    <tr>\n",
       "      <th>16</th>\n",
       "      <td>asked</td>\n",
       "      <td>-6.946758</td>\n",
       "    </tr>\n",
       "    <tr>\n",
       "      <th>17</th>\n",
       "      <td>people</td>\n",
       "      <td>-6.962911</td>\n",
       "    </tr>\n",
       "    <tr>\n",
       "      <th>18</th>\n",
       "      <td>left</td>\n",
       "      <td>-6.964097</td>\n",
       "    </tr>\n",
       "    <tr>\n",
       "      <th>19</th>\n",
       "      <td>ve</td>\n",
       "      <td>-6.975180</td>\n",
       "    </tr>\n",
       "  </tbody>\n",
       "</table>\n",
       "</div>"
      ],
      "text/plain": [
       "             0         1\n",
       "0         food -6.281428\n",
       "1        place -6.465202\n",
       "2         time -6.534750\n",
       "3         good -6.610985\n",
       "4         like -6.650594\n",
       "5      ordered -6.650747\n",
       "6         just -6.666575\n",
       "7      service -6.697648\n",
       "8         went -6.713850\n",
       "9   restaurant -6.755699\n",
       "10       order -6.771097\n",
       "11      really -6.780635\n",
       "12         bad -6.848848\n",
       "13       going -6.862553\n",
       "14        came -6.903482\n",
       "15         got -6.923828\n",
       "16       asked -6.946758\n",
       "17      people -6.962911\n",
       "18        left -6.964097\n",
       "19          ve -6.975180"
      ]
     },
     "execution_count": 19,
     "metadata": {},
     "output_type": "execute_result"
    }
   ],
   "source": [
    "neg_salient_top_20 = get_salient_words(nb_classifier, count_vectorizer, 0)[:20]\n",
    "\n",
    "\n",
    "pd.DataFrame(neg_salient_top_20)"
   ]
  },
  {
   "cell_type": "markdown",
   "id": "connected-sullivan",
   "metadata": {},
   "source": [
    "#### In good reviews"
   ]
  },
  {
   "cell_type": "code",
   "execution_count": 20,
   "id": "english-assets",
   "metadata": {},
   "outputs": [
    {
     "data": {
      "text/html": [
       "<div>\n",
       "<style scoped>\n",
       "    .dataframe tbody tr th:only-of-type {\n",
       "        vertical-align: middle;\n",
       "    }\n",
       "\n",
       "    .dataframe tbody tr th {\n",
       "        vertical-align: top;\n",
       "    }\n",
       "\n",
       "    .dataframe thead th {\n",
       "        text-align: right;\n",
       "    }\n",
       "</style>\n",
       "<table border=\"1\" class=\"dataframe\">\n",
       "  <thead>\n",
       "    <tr style=\"text-align: right;\">\n",
       "      <th></th>\n",
       "      <th>0</th>\n",
       "      <th>1</th>\n",
       "    </tr>\n",
       "  </thead>\n",
       "  <tbody>\n",
       "    <tr>\n",
       "      <th>0</th>\n",
       "      <td>great</td>\n",
       "      <td>-6.275441</td>\n",
       "    </tr>\n",
       "    <tr>\n",
       "      <th>1</th>\n",
       "      <td>food</td>\n",
       "      <td>-6.533563</td>\n",
       "    </tr>\n",
       "    <tr>\n",
       "      <th>2</th>\n",
       "      <td>delicious</td>\n",
       "      <td>-6.696850</td>\n",
       "    </tr>\n",
       "    <tr>\n",
       "      <th>3</th>\n",
       "      <td>chicken</td>\n",
       "      <td>-6.804015</td>\n",
       "    </tr>\n",
       "    <tr>\n",
       "      <th>4</th>\n",
       "      <td>best</td>\n",
       "      <td>-6.836187</td>\n",
       "    </tr>\n",
       "    <tr>\n",
       "      <th>5</th>\n",
       "      <td>place</td>\n",
       "      <td>-6.865789</td>\n",
       "    </tr>\n",
       "    <tr>\n",
       "      <th>6</th>\n",
       "      <td>good</td>\n",
       "      <td>-6.896885</td>\n",
       "    </tr>\n",
       "    <tr>\n",
       "      <th>7</th>\n",
       "      <td>pizza</td>\n",
       "      <td>-6.978258</td>\n",
       "    </tr>\n",
       "    <tr>\n",
       "      <th>8</th>\n",
       "      <td>amazing</td>\n",
       "      <td>-6.981693</td>\n",
       "    </tr>\n",
       "    <tr>\n",
       "      <th>9</th>\n",
       "      <td>service</td>\n",
       "      <td>-6.996405</td>\n",
       "    </tr>\n",
       "    <tr>\n",
       "      <th>10</th>\n",
       "      <td>tasty</td>\n",
       "      <td>-7.056049</td>\n",
       "    </tr>\n",
       "    <tr>\n",
       "      <th>11</th>\n",
       "      <td>prices</td>\n",
       "      <td>-7.057223</td>\n",
       "    </tr>\n",
       "    <tr>\n",
       "      <th>12</th>\n",
       "      <td>try</td>\n",
       "      <td>-7.087305</td>\n",
       "    </tr>\n",
       "    <tr>\n",
       "      <th>13</th>\n",
       "      <td>friendly</td>\n",
       "      <td>-7.095627</td>\n",
       "    </tr>\n",
       "    <tr>\n",
       "      <th>14</th>\n",
       "      <td>love</td>\n",
       "      <td>-7.100469</td>\n",
       "    </tr>\n",
       "    <tr>\n",
       "      <th>15</th>\n",
       "      <td>favorite</td>\n",
       "      <td>-7.112136</td>\n",
       "    </tr>\n",
       "    <tr>\n",
       "      <th>16</th>\n",
       "      <td>steak</td>\n",
       "      <td>-7.121201</td>\n",
       "    </tr>\n",
       "    <tr>\n",
       "      <th>17</th>\n",
       "      <td>staff</td>\n",
       "      <td>-7.124753</td>\n",
       "    </tr>\n",
       "    <tr>\n",
       "      <th>18</th>\n",
       "      <td>fresh</td>\n",
       "      <td>-7.135129</td>\n",
       "    </tr>\n",
       "    <tr>\n",
       "      <th>19</th>\n",
       "      <td>perfect</td>\n",
       "      <td>-7.135933</td>\n",
       "    </tr>\n",
       "  </tbody>\n",
       "</table>\n",
       "</div>"
      ],
      "text/plain": [
       "            0         1\n",
       "0       great -6.275441\n",
       "1        food -6.533563\n",
       "2   delicious -6.696850\n",
       "3     chicken -6.804015\n",
       "4        best -6.836187\n",
       "5       place -6.865789\n",
       "6        good -6.896885\n",
       "7       pizza -6.978258\n",
       "8     amazing -6.981693\n",
       "9     service -6.996405\n",
       "10      tasty -7.056049\n",
       "11     prices -7.057223\n",
       "12        try -7.087305\n",
       "13   friendly -7.095627\n",
       "14       love -7.100469\n",
       "15   favorite -7.112136\n",
       "16      steak -7.121201\n",
       "17      staff -7.124753\n",
       "18      fresh -7.135129\n",
       "19    perfect -7.135933"
      ]
     },
     "execution_count": 20,
     "metadata": {},
     "output_type": "execute_result"
    }
   ],
   "source": [
    "pos_salient_top_20 = get_salient_words(nb_classifier, count_vectorizer, 1)[:20]\n",
    "\n",
    "pd.DataFrame(pos_salient_top_20)"
   ]
  },
  {
   "cell_type": "markdown",
   "id": "involved-daily",
   "metadata": {},
   "source": [
    "### TF-IDF and bigrams (n-grams = 2)\n",
    "## 4. Common words in GOOD reviews "
   ]
  },
  {
   "cell_type": "code",
   "execution_count": 21,
   "id": "boring-mapping",
   "metadata": {},
   "outputs": [],
   "source": [
    "good= df[df['rating']=='good']"
   ]
  },
  {
   "cell_type": "code",
   "execution_count": 22,
   "id": "known-syracuse",
   "metadata": {},
   "outputs": [],
   "source": [
    "vect = TfidfVectorizer(stop_words='english', ngram_range=(2,2))\n",
    "bigrams = vect.fit_transform(good['review'])\n",
    "bigram_df = pd.DataFrame(bigrams.toarray(), columns=vect.get_feature_names())\n",
    "bigram_frequency = pd.DataFrame(bigram_df.sum(axis=0)).reset_index()\n",
    "bigram_frequency.columns = ['bigram', 'frequency']\n",
    "bigram_frequency = bigram_frequency.sort_values(by='frequency', ascending=False).head(20)"
   ]
  },
  {
   "cell_type": "code",
   "execution_count": 23,
   "id": "objective-composition",
   "metadata": {
    "scrolled": false
   },
   "outputs": [
    {
     "name": "stdout",
     "output_type": "stream",
     "text": [
      "                  bigram  frequency\n",
      "1020          great food   1.271581\n",
      "2054       service great   0.986012\n",
      "816           food great   0.960671\n",
      "1039        great prices   0.926529\n",
      "101   authentic friendly   0.707107\n",
      "2269     tasty authentic   0.707107\n",
      "1730         place great   0.669140\n",
      "1363          love place   0.628137\n",
      "488     customer service   0.612668\n",
      "806       food delicious   0.609236\n",
      "159         best chinese   0.577529\n",
      "2007     sausage peppers   0.577350\n",
      "1819   prices reasonable   0.561218\n",
      "1042       great service   0.556680\n",
      "1012      great customer   0.551285\n",
      "155        bergen dragon   0.517527\n",
      "1093          happy hour   0.499170\n",
      "1690    perfectly cooked   0.491391\n",
      "1397           make feel   0.479243\n",
      "1389          mac cheese   0.472452\n"
     ]
    }
   ],
   "source": [
    "print(bigram_frequency)"
   ]
  },
  {
   "cell_type": "markdown",
   "id": "superior-murder",
   "metadata": {},
   "source": [
    "#### 5. Common words in BAD reviews "
   ]
  },
  {
   "cell_type": "code",
   "execution_count": 24,
   "id": "dress-brook",
   "metadata": {},
   "outputs": [],
   "source": [
    "bad= df[df['rating']=='bad']"
   ]
  },
  {
   "cell_type": "code",
   "execution_count": 25,
   "id": "coastal-mirror",
   "metadata": {},
   "outputs": [],
   "source": [
    "vect = TfidfVectorizer(stop_words='english', ngram_range=(2,2))\n",
    "bigrams = vect.fit_transform(bad['review'])\n",
    "bigram_df = pd.DataFrame(bigrams.toarray(), columns=vect.get_feature_names())\n",
    "bigram_frequency = pd.DataFrame(bigram_df.sum(axis=0)).reset_index()\n",
    "bigram_frequency.columns = ['bigram', 'frequency']\n",
    "bigram_frequency = bigram_frequency.sort_values(by='frequency', ascending=False).head(20)"
   ]
  },
  {
   "cell_type": "code",
   "execution_count": 26,
   "id": "legitimate-console",
   "metadata": {},
   "outputs": [
    {
     "name": "stdout",
     "output_type": "stream",
     "text": [
      "                bigram  frequency\n",
      "5886       tasted like   0.834590\n",
      "2458      good service   0.693404\n",
      "5305  service terrible   0.682913\n",
      "3309         long time   0.651925\n",
      "3320       looked like   0.631567\n",
      "1634          don know   0.619272\n",
      "1342  customer service   0.618345\n",
      "2984         just good   0.615275\n",
      "2146         food good   0.614417\n",
      "2150     food horrible   0.599512\n",
      "2048        fish chips   0.597109\n",
      "4275      phone number   0.584872\n",
      "2155         food just   0.578147\n",
      "5943     terrible food   0.576343\n",
      "3215        like place   0.519763\n",
      "5945  terrible quality   0.500000\n",
      "5047      rude service   0.500000\n",
      "5946     terrible rude   0.500000\n",
      "5311       service way   0.500000\n",
      "5944   terrible highly   0.500000\n"
     ]
    }
   ],
   "source": [
    "print(bigram_frequency)"
   ]
  },
  {
   "cell_type": "code",
   "execution_count": null,
   "id": "selective-enzyme",
   "metadata": {},
   "outputs": [],
   "source": []
  }
 ],
 "metadata": {
  "kernelspec": {
   "display_name": "Python 3",
   "language": "python",
   "name": "python3"
  },
  "language_info": {
   "codemirror_mode": {
    "name": "ipython",
    "version": 3
   },
   "file_extension": ".py",
   "mimetype": "text/x-python",
   "name": "python",
   "nbconvert_exporter": "python",
   "pygments_lexer": "ipython3",
   "version": "3.8.8"
  }
 },
 "nbformat": 4,
 "nbformat_minor": 5
}
